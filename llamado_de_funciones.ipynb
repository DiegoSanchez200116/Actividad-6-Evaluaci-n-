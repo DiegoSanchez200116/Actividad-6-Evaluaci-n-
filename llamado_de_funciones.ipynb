{
 "cells": [
  {
   "cell_type": "code",
   "execution_count": 45,
   "metadata": {},
   "outputs": [],
   "source": [
    "import funciones as f"
   ]
  },
  {
   "cell_type": "code",
   "execution_count": 46,
   "metadata": {},
   "outputs": [],
   "source": [
    "#Función 1\n",
    "df = f.cargar_dataset('Portugal.csv')"
   ]
  },
  {
   "cell_type": "code",
   "execution_count": 43,
   "metadata": {},
   "outputs": [
    {
     "ename": "AttributeError",
     "evalue": "module 'funciones' has no attribute 'sustituir_nulos'",
     "output_type": "error",
     "traceback": [
      "\u001b[0;31m---------------------------------------------------------------------------\u001b[0m",
      "\u001b[0;31mAttributeError\u001b[0m                            Traceback (most recent call last)",
      "Cell \u001b[0;32mIn[43], line 2\u001b[0m\n\u001b[1;32m      1\u001b[0m \u001b[38;5;66;03m#Función 2\u001b[39;00m\n\u001b[0;32m----> 2\u001b[0m df_sin_nulos \u001b[38;5;241m=\u001b[39m f\u001b[38;5;241m.\u001b[39msustituir_nulos(df)\n",
      "\u001b[0;31mAttributeError\u001b[0m: module 'funciones' has no attribute 'sustituir_nulos'"
     ]
    }
   ],
   "source": [
    "#Función 2\n",
    "df_sin_nulos = f.sustituir_nulos(df)"
   ]
  },
  {
   "cell_type": "code",
   "execution_count": 47,
   "metadata": {},
   "outputs": [
    {
     "data": {
      "text/plain": [
       "('Valores nulos por columna',\n",
       " Unnamed: 0                                         0\n",
       " id                                                 0\n",
       " name                                               0\n",
       " host_id                                            0\n",
       " host_name                                          0\n",
       " host_since                                         0\n",
       " host_response_time                               723\n",
       " host_response_rate                               723\n",
       " host_acceptance_rate                             518\n",
       " host_is_superhost                                104\n",
       " host_listings_count                                0\n",
       " host_identity_verified                             0\n",
       " neighbourhood_cleansed                             0\n",
       " neighbourhood_group_cleansed                    6246\n",
       " latitude                                           0\n",
       " longitude                                          0\n",
       " property_type                                      0\n",
       " room_type                                          0\n",
       " accommodates                                       0\n",
       " bathrooms                                        378\n",
       " bathrooms_text                                     0\n",
       " bedrooms                                          34\n",
       " beds                                             386\n",
       " price                                            378\n",
       " minimum_nights                                     0\n",
       " maximum_nights                                     0\n",
       " minimum_minimum_nights                             0\n",
       " maximum_minimum_nights                             0\n",
       " minimum_maximum_nights                             0\n",
       " maximum_maximum_nights                             0\n",
       " minimum_nights_avg_ntm                             0\n",
       " maximum_nights_avg_ntm                             0\n",
       " has_availability                                  35\n",
       " availability_30                                    0\n",
       " availability_60                                    0\n",
       " availability_90                                    0\n",
       " availability_365                                   0\n",
       " number_of_reviews                                  0\n",
       " number_of_reviews_ltm                              0\n",
       " number_of_reviews_l30d                             0\n",
       " review_scores_rating                            1085\n",
       " review_scores_accuracy                          1087\n",
       " review_scores_cleanliness                       1087\n",
       " review_scores_checkin                           1087\n",
       " review_scores_communication                     1087\n",
       " review_scores_location                          1087\n",
       " review_scores_value                             1087\n",
       " instant_bookable                                   0\n",
       " calculated_host_listings_count                     0\n",
       " calculated_host_listings_count_entire_homes        0\n",
       " calculated_host_listings_count_private_rooms       0\n",
       " dtype: int64,\n",
       " 'Valores nulos por dataframe',\n",
       " 17132)"
      ]
     },
     "execution_count": 47,
     "metadata": {},
     "output_type": "execute_result"
    }
   ],
   "source": [
    "#Función 3\n",
    "f.cuenta_nulos(df)"
   ]
  },
  {
   "cell_type": "code",
   "execution_count": 48,
   "metadata": {},
   "outputs": [],
   "source": [
    "#Función 4\n",
    "df_procesado = f.sust_atipicos(df)"
   ]
  },
  {
   "cell_type": "code",
   "execution_count": 49,
   "metadata": {},
   "outputs": [],
   "source": [
    "#Transformar DataFrame a CSV\n",
    "df_procesado.to_csv('Portugal_procesado.csv', index=False)"
   ]
  }
 ],
 "metadata": {
  "kernelspec": {
   "display_name": "base",
   "language": "python",
   "name": "python3"
  },
  "language_info": {
   "codemirror_mode": {
    "name": "ipython",
    "version": 3
   },
   "file_extension": ".py",
   "mimetype": "text/x-python",
   "name": "python",
   "nbconvert_exporter": "python",
   "pygments_lexer": "ipython3",
   "version": "3.12.7"
  }
 },
 "nbformat": 4,
 "nbformat_minor": 4
}
